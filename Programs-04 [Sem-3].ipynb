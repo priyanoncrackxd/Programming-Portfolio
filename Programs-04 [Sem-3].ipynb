{
 "cells": [
  {
   "cell_type": "code",
   "execution_count": 14,
   "id": "cdfdeb82-4a77-483d-ba1d-9e60d8d29e08",
   "metadata": {},
   "outputs": [
    {
     "name": "stdin",
     "output_type": "stream",
     "text": [
      "enter a number: 888\n"
     ]
    },
    {
     "name": "stdout",
     "output_type": "stream",
     "text": [
      "False\n"
     ]
    }
   ],
   "source": [
    "\"\"\"1.Functions are oen used to validate input. Write a function that accepts a single\n",
    "integer as a parameter and returns True if the integer is in the range 0 to 100\n",
    "(inclusive), or False otherwise. Write a short program to test the function.\"\"\"\n",
    "\n",
    "def range(number):\n",
    "    if 0 <= number <= 100:\n",
    "       return True\n",
    "    else:\n",
    "        return False\n",
    "testing=int(input(\"enter a number:\"))\n",
    "print(range(testing))"
   ]
  },
  {
   "cell_type": "code",
   "execution_count": 30,
   "id": "7327ed53-f88a-400a-a4fe-7e499f2a0a0d",
   "metadata": {},
   "outputs": [
    {
     "name": "stdin",
     "output_type": "stream",
     "text": [
      "Enter a string: HELLO priyan\n"
     ]
    },
    {
     "name": "stdout",
     "output_type": "stream",
     "text": [
      "Letters that are uppercase = 5\n",
      "Letters that are lowercase = 6\n"
     ]
    }
   ],
   "source": [
    "\"\"\"2.Write a function that has a single string as its parameter, and returns the number of\n",
    "uppercase letters, and the number of lowercase letters in the string. \n",
    "Test the function with a short program.\"\"\"\n",
    "\n",
    "\n",
    "def count(string):\n",
    "    uppercase_letters=sum(1 for char in string if char.isupper())\n",
    "    lowercase_letters=sum(1 for char in string if char.islower())\n",
    "    return uppercase_letters, lowercase_letters \n",
    "\n",
    "testing = input(\"Enter a string:\")\n",
    "uppercase, lowercase = count(testing)  \n",
    "\n",
    "print(f\"Letters that are uppercase = {uppercase}\")\n",
    "print(f\"Letters that are lowercase = {lowercase}\")\n",
    "\n"
   ]
  },
  {
   "cell_type": "code",
   "execution_count": 36,
   "id": "c3fdc9d9-8593-4d45-97b4-ababb212be04",
   "metadata": {},
   "outputs": [
    {
     "name": "stdin",
     "output_type": "stream",
     "text": [
      "Enter your name: priyANSHU\n"
     ]
    },
    {
     "name": "stdout",
     "output_type": "stream",
     "text": [
      "Hello, Priyanshu\n"
     ]
    }
   ],
   "source": [
    "\"\"\"3.Modify your \"greetings\" program so that the first letter of the name entered is\n",
    "always in uppercase with the rest in lowercase. This should happen even if the user\n",
    "entered their name dierently. So if the user entered arthur, ARTHUR, or even\n",
    "arTHur the name should be displayed as Arthur.\"\"\"\n",
    "\n",
    "def format_name(name): \n",
    "    return name.capitalize() \n",
    "\n",
    "names = input(\"Enter your name:\")  \n",
    "formatted_name = format_name(names)  \n",
    "print(f\"Hello, {formatted_name}\") \n",
    "\n"
   ]
  },
  {
   "cell_type": "code",
   "execution_count": 11,
   "id": "33a65a37-515d-4902-b950-2c7c988ae510",
   "metadata": {},
   "outputs": [
    {
     "name": "stdin",
     "output_type": "stream",
     "text": [
      "Enter a string: apv\n"
     ]
    },
    {
     "name": "stdout",
     "output_type": "stream",
     "text": [
      "ap\n"
     ]
    }
   ],
   "source": [
    "\"\"\"4.When processing data it is often useful to remove the last character from some\n",
    "input (it is often a newline). Write and test a function that takes a string parameter\n",
    "and returns it with the last character removed. (If the string contains one or fewer\n",
    "characters, return it unchanged.)\"\"\"\n",
    "\n",
    "def checker(one_variable):\n",
    "    if len(one_variable)>1:\n",
    "        return one_variable[:-1]\n",
    "    else:\n",
    "        return one_variable\n",
    "\n",
    "parameter_string=input(\"Enter a string:\")\n",
    "print(checker(parameter_string))\n",
    "\n",
    "\n"
   ]
  },
  {
   "cell_type": "code",
   "execution_count": 4,
   "id": "2ee20397-7c20-4794-b3bc-b30f7252a7b7",
   "metadata": {},
   "outputs": [
    {
     "name": "stdin",
     "output_type": "stream",
     "text": [
      "enter your temperature in celsius: 88\n"
     ]
    },
    {
     "name": "stdout",
     "output_type": "stream",
     "text": [
      "celsius to fahrenheit = 190.4\n",
      "fahrenheit to celsius = 88.0\n"
     ]
    }
   ],
   "source": [
    "\"\"\"5.Write and test a function that converts a temperature measured in degrees\n",
    "centigrade into the equivalent in fahrenheit, and another that does the reverse\n",
    "conversion. Test both functions. (Google will find you the formulae).\"\"\"\n",
    "\n",
    "def celsius_to_fahrenheit(cel):\n",
    "    return (cel * 9/5) + 32\n",
    "    \n",
    "def fahrenheit_to_celsius(fahrenheit):\n",
    "    return (fahrenheit - 32) * 5/9\n",
    "\n",
    "celsius=float(input(\"Enter your temperature in celsius:\"))\n",
    "print(f\"celsius to fahrenheit={celsius_to_fahrenheit(celsius)}\")\n",
    "h=celsius_to_fahrenheit(celsius)\n",
    "print(f\"fahrenheit to celsius = {fahrenheit_to_celsius(h)}\")\n",
    "\n"
   ]
  },
  {
   "cell_type": "code",
   "execution_count": 9,
   "id": "582bfe4f-3228-4ddb-b005-9fd202faee0c",
   "metadata": {},
   "outputs": [
    {
     "name": "stdin",
     "output_type": "stream",
     "text": [
      "enter your temperature in centigrade including C: 66c\n"
     ]
    },
    {
     "name": "stdout",
     "output_type": "stream",
     "text": [
      "150.8f\n"
     ]
    }
   ],
   "source": [
    "\"\"\"6.Write a program that takes a centigrade temperature and displays the equivalent in fahrenheit. \n",
    "The input should be a number followed by a letter C. The output should be in the same format.\"\"\"\n",
    "\n",
    "def centigrade_temperature(temp):\n",
    "    if 'c' in temp:\n",
    "        return True\n",
    "\n",
    "    return False\n",
    "\n",
    "def calculation(calc):\n",
    "    if centigrade_temperature(calc):\n",
    "        calc=float(calc [:-1])\n",
    "        fahrenheit=calc*(9/5)+32\n",
    "        return fahrenheit\n",
    "\n",
    "centigrade=input(\"enter your temperature in centigrade including C:\")\n",
    "print(f\"{calculation(centigrade)}f\")\n"
   ]
  },
  {
   "cell_type": "code",
   "execution_count": 12,
   "id": "5d957e24-8ad5-4091-810d-7f6a23531e37",
   "metadata": {},
   "outputs": [
    {
     "name": "stdout",
     "output_type": "stream",
     "text": [
      "Enter 6 temperatures (e.g., 25C):\n"
     ]
    },
    {
     "name": "stdin",
     "output_type": "stream",
     "text": [
      "Temperature:  1c\n",
      "Temperature:  2c\n",
      "Temperature:  3c\n",
      "Temperature:  4c\n",
      "Temperature:  5c\n",
      "Temperature:  6c\n"
     ]
    },
    {
     "name": "stdout",
     "output_type": "stream",
     "text": [
      "Maximum Temperature: 6.0C\n",
      "Minimum Temperature: 1.0C\n",
      "Mean Temperature: 3.5C\n"
     ]
    }
   ],
   "source": [
    "'''7.Write a program that reads 6 temperatures (in the same format as before), and\n",
    "displays the maximum, minimum, and mean of the values.'''\n",
    "\n",
    "\n",
    "temperatures = []\n",
    "print(\"Enter 6 temperatures (e.g., 25C):\")\n",
    "for _ in range(6):\n",
    "    temp_input = input(\"Temperature: \").strip()\n",
    "    if temp_input[-1].upper() == 'C' and temp_input[:-1].replace('.', '', 1).isdigit():\n",
    "        temperatures.append(float(temp_input[:-1]))\n",
    "    else:\n",
    "        print(\"Please enter a number followed by 'C'.\")\n",
    "        break\n",
    "\n",
    "if len(temperatures) == 6:\n",
    "    maximum = max(temperatures)\n",
    "    minimum = min(temperatures)\n",
    "    mean = sum(temperatures) / len(temperatures)\n",
    "\n",
    "    print(f\"Maximum Temperature:{maximum:.1f}C\")\n",
    "    print(f\"Minimum Temperature:{minimum:.1f}C\")\n",
    "    print(f\"Mean Temperature:{mean:.1f}C\")\n",
    "\n"
   ]
  },
  {
   "cell_type": "code",
   "execution_count": 16,
   "id": "585a7915-834f-4093-867e-1a917b1571e8",
   "metadata": {},
   "outputs": [
    {
     "name": "stdout",
     "output_type": "stream",
     "text": [
      "Enter temperatures (e.g., 25C). Press Enter without any input to stop:\n"
     ]
    },
    {
     "name": "stdin",
     "output_type": "stream",
     "text": [
      "Temperature:  55a\n"
     ]
    },
    {
     "name": "stdout",
     "output_type": "stream",
     "text": [
      "Please enter a number followed by 'C'.\n"
     ]
    },
    {
     "name": "stdin",
     "output_type": "stream",
     "text": [
      "Temperature:  55c\n",
      "Temperature:  \n"
     ]
    },
    {
     "name": "stdout",
     "output_type": "stream",
     "text": [
      "Maximum Temperature: 55.0C\n",
      "Minimum Temperature: 55.0C\n",
      "Mean Temperature: 55.0C\n"
     ]
    }
   ],
   "source": [
    "'''8.Modify the previous program so that it can process any number of values. The input\n",
    "terminates when the user just pressed \"Enter\" at the prompt rather than entering a\n",
    "value.'''\n",
    "\n",
    "temperatures = []\n",
    "print(\"Enter temperatures (e.g., 25C). Press Enter without any input to stop:\")\n",
    "\n",
    "while True:\n",
    "    temp_input = input(\"Temperature: \").strip()\n",
    "    \n",
    "    if temp_input == \"\":\n",
    "        break\n",
    "\n",
    "    if temp_input[-1].upper() == 'C' and temp_input[:-1].replace('.', '', 1).isdigit():\n",
    "        temperatures.append(float(temp_input[:-1]))\n",
    "    else:\n",
    "        print(\"Please enter a number followed by 'C'.\")\n",
    "\n",
    "if temperatures:\n",
    "    maximum = max(temperatures)\n",
    "    minimum = min(temperatures)\n",
    "    mean = sum(temperatures) / len(temperatures)\n",
    "\n",
    "    print(f\"Maximum Temperature: {maximum:.1f}C\")\n",
    "    print(f\"Minimum Temperature: {minimum:.1f}C\")\n",
    "    print(f\"Mean Temperature: {mean:.1f}C\")\n",
    "else:\n",
    "    print(\"No valid temperatures were entered.\")\n",
    "\n",
    "   \n",
    "\n"
   ]
  },
  {
   "cell_type": "code",
   "execution_count": null,
   "id": "284eddb0-e35c-4672-9793-c49264c5e06b",
   "metadata": {},
   "outputs": [],
   "source": []
  }
 ],
 "metadata": {
  "kernelspec": {
   "display_name": "Python 3 (ipykernel)",
   "language": "python",
   "name": "python3"
  },
  "language_info": {
   "codemirror_mode": {
    "name": "ipython",
    "version": 3
   },
   "file_extension": ".py",
   "mimetype": "text/x-python",
   "name": "python",
   "nbconvert_exporter": "python",
   "pygments_lexer": "ipython3",
   "version": "3.13.1"
  }
 },
 "nbformat": 4,
 "nbformat_minor": 5
}
