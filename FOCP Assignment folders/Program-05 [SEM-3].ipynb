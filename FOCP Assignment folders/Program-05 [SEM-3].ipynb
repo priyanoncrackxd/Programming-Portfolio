{
 "cells": [
  {
   "cell_type": "code",
   "execution_count": 1,
   "id": "70616969-78ef-46ad-8b1f-87837d148e57",
   "metadata": {},
   "outputs": [
    {
     "name": "stdout",
     "output_type": "stream",
     "text": [
      "Operating System Platform: win32\n"
     ]
    }
   ],
   "source": [
    "\"\"\"1.Using command-line arguments involves the sys module. Review the docs for this\n",
    "module and using the information in there write a short program that when run\n",
    "from the command-line reports what operating system platform is being used\"\"\"\n",
    "\n",
    "import sys\n",
    "print(\"Operating System Platform:\", sys.platform)\n"
   ]
  },
  {
   "cell_type": "code",
   "execution_count": 2,
   "id": "ae6f8fdc-6431-41b9-9eac-ce3d32eddf55",
   "metadata": {},
   "outputs": [
    {
     "name": "stdout",
     "output_type": "stream",
     "text": [
      "Number of arguments:2\n"
     ]
    }
   ],
   "source": [
    "\"\"\"2.Write a program that, when run from the command line, reports how many\n",
    "arguments were provided. (Remember that the program name itself is not an\n",
    "argument)\"\"\"\n",
    "\n",
    "import sys\n",
    "arguments = len(sys.argv) - 1\n",
    "print(f\"Number of arguments:{arguments}\")\n"
   ]
  },
  {
   "cell_type": "code",
   "execution_count": 1,
   "id": "d4fa512b-734a-447b-a5c8-be94dc23e674",
   "metadata": {},
   "outputs": [
    {
     "name": "stdout",
     "output_type": "stream",
     "text": [
      "The Shortest argument is: -f\n"
     ]
    }
   ],
   "source": [
    "\"\"\"3.Write a program that takes a bunch of command-line arguments, and then prints\n",
    "out the shortest. If there is more than one of the shortest length, any will do.\"\"\"\n",
    "\n",
    "import sys\n",
    "arguments = sys.argv[1:]\n",
    "\n",
    "arguments.sort(key=len)\n",
    "\n",
    "if arguments:\n",
    "    print(\"The Shortest argument is:\", arguments[0])\n",
    "else:\n",
    "    print(\"No arguments provided.\")\n"
   ]
  },
  {
   "cell_type": "code",
   "execution_count": null,
   "id": "347d63ac-620c-46e1-83d3-1c060f062b8a",
   "metadata": {},
   "outputs": [],
   "source": []
  }
 ],
 "metadata": {
  "kernelspec": {
   "display_name": "Python 3 (ipykernel)",
   "language": "python",
   "name": "python3"
  },
  "language_info": {
   "codemirror_mode": {
    "name": "ipython",
    "version": 3
   },
   "file_extension": ".py",
   "mimetype": "text/x-python",
   "name": "python",
   "nbconvert_exporter": "python",
   "pygments_lexer": "ipython3",
   "version": "3.13.1"
  }
 },
 "nbformat": 4,
 "nbformat_minor": 5
}
