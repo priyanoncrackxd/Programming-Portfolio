{
 "cells": [
  {
   "cell_type": "code",
   "execution_count": 2,
   "id": "3f19c3b2-3e36-46fc-9c94-01b8c7fe1cb4",
   "metadata": {},
   "outputs": [
    {
     "name": "stdin",
     "output_type": "stream",
     "text": [
      "Please enter your name: \n"
     ]
    },
    {
     "name": "stdout",
     "output_type": "stream",
     "text": [
      "Hello, Stranger!\n"
     ]
    }
   ],
   "source": [
    "\"\"\" 1.Modify your greeting program so that if the user does not enter a name\n",
    "(i.e. they just press enter), the program responds \"Hello, Stranger!\". \n",
    "Otherwise it should print a greeting with their name as before.\"\"\"\n",
    "\n",
    "username=input(\"Please enter your name:\")\n",
    "if username:\n",
    "    print(f\"Hello,{username}!\")\n",
    "else:\n",
    "    print(\"Hello, Stranger!\")\n"
   ]
  },
  {
   "cell_type": "code",
   "execution_count": 5,
   "id": "876bf2b1-bfd6-40f0-a5bb-ca033d0ee401",
   "metadata": {},
   "outputs": [
    {
     "name": "stdin",
     "output_type": "stream",
     "text": [
      "Enter a strong password: hi\n",
      "Enter new password: hi\n"
     ]
    },
    {
     "name": "stdout",
     "output_type": "stream",
     "text": [
      "This password has been set already!!\n"
     ]
    }
   ],
   "source": [
    "'''2.Write a program that simulates the way in which a user might choose a password.\n",
    " The program should prompt for a new password, and then prompt again. \n",
    " If the two passwords entered are the same the program should say \"Password Set\" or similar\n",
    " otherwise it should report an error.'''\n",
    "\n",
    "password=input(\"Enter a strong password:\")\n",
    "new_password=input(\"Enter new password:\")\n",
    "if password==new_password:\n",
    "    print(\"This password has been set already!!\")\n",
    "else:\n",
    "    print(f\"new password={new_password}\")\n"
   ]
  },
  {
   "cell_type": "code",
   "execution_count": 20,
   "id": "a0a90008-3dae-44ee-84bf-c1b83f3ff7b8",
   "metadata": {},
   "outputs": [
    {
     "name": "stdin",
     "output_type": "stream",
     "text": [
      "Enter a new password consisting 8-12 characters: ho\n"
     ]
    },
    {
     "name": "stdout",
     "output_type": "stream",
     "text": [
      "Password must be between 8 and 12 characters.\n",
      "Error: Passwords do not match. Please try again.\n"
     ]
    }
   ],
   "source": [
    "\"\"\"3.Modify your previous program so that the password must be between 8 and 12\n",
    " characters (inclusive) long.\"\"\"\n",
    "\n",
    "pw1=input(\"Enter a new password consisting 8-12 characters:\")\n",
    "\n",
    "if len(pw1)<8 or len(pw1)>12:\n",
    "        print(\"Password must be between 8 and 12 characters.\")\n",
    "else:\n",
    "         pw2=input(\"Re-enter your password to confirm:\")\n",
    "    \n",
    "if pw1==pw2:\n",
    "        print(\"Password Set Successfully!\")\n",
    "else:\n",
    "       print(\"This password has been set already!!\")\n"
   ]
  },
  {
   "cell_type": "code",
   "execution_count": 22,
   "id": "1ac9e345-bc2d-43f6-8a84-18a92bbd60e5",
   "metadata": {},
   "outputs": [
    {
     "name": "stdin",
     "output_type": "stream",
     "text": [
      "Enter a new password password\n"
     ]
    },
    {
     "name": "stdout",
     "output_type": "stream",
     "text": [
      "The password that you have chosen isnt valid, Try again!!\n"
     ]
    }
   ],
   "source": [
    "\"\"\"4.Modify your program again so that the chosen password cannot be one of a list of common passwords, defined thus:\n",
    "BAD_PASSWORDS = ['password', 'letmein', 'sesame', 'hello', 'justinbieber']\"\"\"\n",
    "\n",
    "pw1=input(\"Enter a new password\")\n",
    "BAD_PASSWORDS = ['password', 'letmein', 'sesame', 'hello', 'justinbieber']\n",
    "\n",
    "if pw1 in BAD_PASSWORDS:\n",
    "        print(\"The password isnt valid, Try again!!\")\n",
    "else:\n",
    "        print(\"Password set successfully\")\n"
   ]
  },
  {
   "cell_type": "code",
   "execution_count": 42,
   "id": "b3b0e0fb-23a3-45f6-bc6e-97d713ebab0e",
   "metadata": {},
   "outputs": [
    {
     "name": "stdin",
     "output_type": "stream",
     "text": [
      "Enter a new password of 8-12 characters: password\n"
     ]
    },
    {
     "name": "stdout",
     "output_type": "stream",
     "text": [
      "The password isn't valid. Try again!\n"
     ]
    },
    {
     "name": "stdin",
     "output_type": "stream",
     "text": [
      "Enter a new password of 8-12 characters: hi\n"
     ]
    },
    {
     "name": "stdout",
     "output_type": "stream",
     "text": [
      "Error: Password must be between 8 and 12 characters.\n"
     ]
    },
    {
     "name": "stdin",
     "output_type": "stream",
     "text": [
      "Enter a new password of 8-12 characters: priyanshu\n",
      "Re-enter your password to confirm:  priyanshu\n"
     ]
    },
    {
     "name": "stdout",
     "output_type": "stream",
     "text": [
      "Password Set Successfully!\n"
     ]
    }
   ],
   "source": [
    "\"\"\"5.Modify your program a final time so that it executes until the user successfully chooses a password. \n",
    "That is, if the password chosen fails any of the checks, \n",
    "the program should return to asking for the password the first time.\"\"\"\n",
    "\n",
    "BAD_PASSWORDS = ['password', 'letmein', 'sesame', 'hello', 'justinbieber']\n",
    "\n",
    "while True:\n",
    "    pw1=input(\"Enter a new password of 8-12 characters:\")\n",
    "\n",
    "    if pw1 in BAD_PASSWORDS:\n",
    "        print(\"The password isn't valid. Try again!!\")\n",
    "        continue\n",
    "\n",
    "    if len(pw1) < 8 or len(pw1) > 12:\n",
    "        print(\"Error: Password must be between 8 and 12 characters!!\")\n",
    "        continue\n",
    "\n",
    "    pw2 = input(\"Re-enter your password to confirm:\")\n",
    "\n",
    "    if pw1 == pw2:\n",
    "        print(\"Password Set Successfully!\")\n",
    "        break\n",
    "    else:\n",
    "        print(\"Error: Passwords do not match. Please try again!\")\n"
   ]
  },
  {
   "cell_type": "code",
   "execution_count": 14,
   "id": "bc13ca41-2074-4977-a474-a187677651b7",
   "metadata": {},
   "outputs": [
    {
     "name": "stdout",
     "output_type": "stream",
     "text": [
      "0*7=0\n",
      "1*7=7\n",
      "2*7=14\n",
      "3*7=21\n",
      "4*7=28\n",
      "5*7=35\n",
      "6*7=42\n",
      "7*7=49\n",
      "8*7=56\n",
      "9*7=63\n",
      "10*7=70\n",
      "11*7=77\n",
      "12*7=84\n"
     ]
    }
   ],
   "source": [
    "\"\"\"6.Write a program that displays the \"Seven Times Table\". That is, the result of\n",
    "multiplying 7 by every number from 0 to 12 inclusive. The output might start:\n",
    "0 x 7 = 0\n",
    "1 x 7 = 7\n",
    "2 x 7 = 14\n",
    "and so on.\"\"\"\n",
    "\n",
    "i=0\n",
    "while i<=12:\n",
    "    print(f\"{i}*7={i*7}\")\n",
    "    i+=1\n"
   ]
  },
  {
   "cell_type": "code",
   "execution_count": 24,
   "id": "17545b43-c24e-4899-a005-2345ea70f340",
   "metadata": {},
   "outputs": [
    {
     "name": "stdin",
     "output_type": "stream",
     "text": [
      "please enter the number of table required (0-12): 88\n"
     ]
    },
    {
     "name": "stdout",
     "output_type": "stream",
     "text": [
      "please enter a number from 0 to 12!!!\n"
     ]
    }
   ],
   "source": [
    "\"\"\"7.Modify your \"Times Table\" program so that the user enters the number of the table they require.\n",
    "This number should be between 0 and 12 inclusive.\"\"\"\n",
    "\n",
    "table=int(input(\"please enter the number of table required (0-12):\"))\n",
    "if 0<= table <=12:\n",
    "    for i in range(13):\n",
    "        print(f\"{i}*{table}={i*table}\")\n",
    "else:\n",
    "    print(\"please enter a number from 0 to 12!!!\")\n"
   ]
  },
  {
   "cell_type": "code",
   "execution_count": 35,
   "id": "609b58c7-82e3-447f-8dae-90baec0a3736",
   "metadata": {},
   "outputs": [
    {
     "name": "stdin",
     "output_type": "stream",
     "text": [
      "please enter the number of table required (0-12): 9\n"
     ]
    },
    {
     "name": "stdout",
     "output_type": "stream",
     "text": [
      "0*9=0\n",
      "1*9=9\n",
      "2*9=18\n",
      "3*9=27\n",
      "4*9=36\n",
      "5*9=45\n",
      "6*9=54\n",
      "7*9=63\n",
      "8*9=72\n",
      "9*9=81\n",
      "10*9=90\n",
      "11*9=99\n",
      "12*9=108\n"
     ]
    }
   ],
   "source": [
    "\"\"\"8.Modify the \"Times Table\" again so that the user still enters the number of the table,\n",
    "but if this number is negative the table is printed backwards.\n",
    "So entering \"-7\" would produce the Seven Times Table starting at \"12 times\" down to \"0 times\" \"\"\"\n",
    "\n",
    "\n",
    "table=int(input(\"please enter the number of table required (0-12):\"))\n",
    "if -12<= table <=12:\n",
    "    if table <0:\n",
    "        for i in range(12, -1, -1):\n",
    "            print(f\"{i}*{table}={i*table}\")\n",
    "    else:\n",
    "     for i in range(13):\n",
    "        print(f\"{i}*{table}={i*table}\")\n",
    "else:\n",
    "    print(\"please enter a number from 0 to 12!!!\")\n"
   ]
  },
  {
   "cell_type": "code",
   "execution_count": null,
   "id": "7de72d6f-03f9-475b-be84-95a070c79677",
   "metadata": {},
   "outputs": [],
   "source": []
  }
 ],
 "metadata": {
  "kernelspec": {
   "display_name": "Python 3 (ipykernel)",
   "language": "python",
   "name": "python3"
  },
  "language_info": {
   "codemirror_mode": {
    "name": "ipython",
    "version": 3
   },
   "file_extension": ".py",
   "mimetype": "text/x-python",
   "name": "python",
   "nbconvert_exporter": "python",
   "pygments_lexer": "ipython3",
   "version": "3.13.1"
  }
 },
 "nbformat": 4,
 "nbformat_minor": 5
}
