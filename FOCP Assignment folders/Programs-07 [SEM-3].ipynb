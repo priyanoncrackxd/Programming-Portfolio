{
 "cells": [
  {
   "cell_type": "code",
   "execution_count": 2,
   "id": "16b53619-bf5b-43f2-ac16-afb5f85fbe90",
   "metadata": {},
   "outputs": [
    {
     "name": "stdin",
     "output_type": "stream",
     "text": [
      "Enter a string: priyanshu\n"
     ]
    },
    {
     "name": "stdout",
     "output_type": "stream",
     "text": [
      "['a', 'h', 'i', 'n', 'p', 'r', 's', 'u', 'y']\n"
     ]
    }
   ],
   "source": [
    "'''1.Write and test a function that takes a string as a parameter and returns a sorted list\n",
    "of all the unique letters used in the string. So, if the string is cheese, the list\n",
    "returned should be ['c', 'e', 'h', 's'].'''\n",
    "\n",
    "def sorted_letters(s):\n",
    "    return sorted(set(s))\n",
    "\n",
    "sorter=input(\"Enter a string:\")\n",
    "print(sorted_letters(sorter))\n"
   ]
  },
  {
   "cell_type": "code",
   "execution_count": 10,
   "id": "a56f6359-ce7b-4004-8667-c26c1850c7e7",
   "metadata": {},
   "outputs": [
    {
     "name": "stdin",
     "output_type": "stream",
     "text": [
      "Please enter the first word: hirako\n",
      "Please enter the second word: shinji\n"
     ]
    },
    {
     "name": "stdout",
     "output_type": "stream",
     "text": [
      "Letters in at least one of the words: ['a', 'h', 'i', 'k', 'o', 'r']\n",
      "Letters in both words: ['h', 'i', 'j', 'n', 's']\n",
      "Letters in either word, but not both: ['a', 'j', 'k', 'n', 'o', 'r', 's']\n"
     ]
    }
   ],
   "source": [
    "'''2.Write and test three functions that each take two words (strings) as parameters and\n",
    "return sorted lists (as defined above) representing respectively:\n",
    "Letters that appear in at least one of the two words.\n",
    "Letters that appear in both words.\n",
    "Letters that appear in either word, but not in both.'''\n",
    "\n",
    "def either(word1, word2):\n",
    "    return sorted(set(word1) or set(word2)) \n",
    "\n",
    "def both(word1, word2):\n",
    "    return sorted(set(word1) and set(word2))\n",
    "\n",
    "def either_not_both(word1, word2):\n",
    "    return sorted(set(word1) ^ set(word2))  \n",
    "\n",
    "word1=input(\"Please enter the first word:\")\n",
    "word2=input(\"Please enter the second word:\")\n",
    "\n",
    "print(\"Letters in at least one of the words:\", either(word1, word2))\n",
    "print(\"Letters in both words:\", both(word1, word2))\n",
    "print(\"Letters in either word, but not both:\", either_not_both(word1, word2))"
   ]
  },
  {
   "cell_type": "code",
   "execution_count": null,
   "id": "08614b5e-ece2-4216-a44d-3eab52f39936",
   "metadata": {},
   "outputs": [],
   "source": [
    "'''3.Write a program that manages a list of countries and their capital cities. It should prompt the user to enter the name of a country. \n",
    "If the program already \"knows\" the name of the capital city, it should display it. \n",
    "Otherwise it should ask the user to enter it. \n",
    "This should carry on until the user terminates the program (how this happens is up to you).'''\n",
    "\n",
    "def manage_countries_and_capitals():\n",
    "    countries_and_capitals = {}\n",
    "\n",
    "    while True:\n",
    "        country = input(\"Enter the name of a country (or type 'exit' to quit): \").strip()\n",
    "        if country.lower() == \"exit\":\n",
    "            print(\"Exiting the program.\")\n",
    "            break\n",
    "\n",
    "        if country in countries_and_capitals:\n",
    "            print(f\"The capital of {country} is {countries_and_capitals[country]}.\")\n",
    "        else:\n",
    "            capital = input(f\"I don't know the capital of {country}. Please enter it: \").strip()\n",
    "            countries_and_capitals[country] = capital\n",
    "            print(f\"Thank you! The capital of {country} is now recorded as {capital}.\")\n",
    "\n",
    "\n",
    "manage_countries_and_capitals()\n"
   ]
  },
  {
   "cell_type": "code",
   "execution_count": 12,
   "id": "90ca241d-f474-4316-8619-c894154b34ff",
   "metadata": {},
   "outputs": [
    {
     "name": "stdin",
     "output_type": "stream",
     "text": [
      "Enter the encrypted message:  wbdawuygbtawydgaytdftysdahgduywgd\n"
     ]
    },
    {
     "name": "stdout",
     "output_type": "stream",
     "text": [
      "The 6 most common letters are:\n",
      "d: 6\n",
      "y: 5\n",
      "w: 4\n",
      "a: 4\n",
      "g: 4\n",
      "t: 3\n"
     ]
    }
   ],
   "source": [
    "\"\"\"4. One approach to analysing some encrypted data where a substitution is suspected\n",
    "is frequency analysis. A count of the dierent symbols in the message can be used\n",
    "to identify the language used, and sometimes some of the letters. In English, the\n",
    "most common letter is \"e\", and so the symbol representing \"e\" should appear most\n",
    "in the encrypted text.\n",
    "Write a program that processes a string representing a message and reports the six\n",
    "most common letters, along with the number of times they appear. Case should\n",
    "not matter, so \"E\" and \"e\" are considered the same\"\"\"\n",
    "\n",
    "def frequency_analysis(message):\n",
    "    letter_counts = {}\n",
    "\n",
    "    for char in message:\n",
    "        char = char.lower()\n",
    "        if 'a' <= char <= 'z': \n",
    "            if char in letter_counts:\n",
    "                letter_counts[char] += 1\n",
    "            else:\n",
    "                letter_counts[char] = 1\n",
    "\n",
    "    sorted_counts = sorted(letter_counts.items(), key=lambda x: x[1], reverse=True)\n",
    "\n",
    "    print(\"The 6 most common letters are:\")\n",
    "    for i in range(min(6, len(sorted_counts))):\n",
    "        letter, count = sorted_counts[i]\n",
    "        print(f\"{letter}: {count}\")\n",
    "\n",
    "message = input(\"Enter the encrypted message: \")\n",
    "frequency_analysis(message)\n"
   ]
  },
  {
   "cell_type": "code",
   "execution_count": null,
   "id": "48de4489-f748-40a3-8f7f-6967d1d05621",
   "metadata": {},
   "outputs": [],
   "source": []
  }
 ],
 "metadata": {
  "kernelspec": {
   "display_name": "Python 3 (ipykernel)",
   "language": "python",
   "name": "python3"
  },
  "language_info": {
   "codemirror_mode": {
    "name": "ipython",
    "version": 3
   },
   "file_extension": ".py",
   "mimetype": "text/x-python",
   "name": "python",
   "nbconvert_exporter": "python",
   "pygments_lexer": "ipython3",
   "version": "3.13.1"
  }
 },
 "nbformat": 4,
 "nbformat_minor": 5
}
