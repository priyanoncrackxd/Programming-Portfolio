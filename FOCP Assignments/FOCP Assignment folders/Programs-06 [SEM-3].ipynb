{
 "cells": [
  {
   "cell_type": "code",
   "execution_count": 1,
   "id": "65b37c6d-56db-4048-be16-c9b89cba32db",
   "metadata": {},
   "outputs": [
    {
     "name": "stdin",
     "output_type": "stream",
     "text": [
      "Enter a positive integer: 10\n"
     ]
    },
    {
     "name": "stdout",
     "output_type": "stream",
     "text": [
      "The binary of 10 is 1010\n"
     ]
    }
   ],
   "source": [
    "\"\"\"1.Write a function that accepts a positive integer as a parameter and then returns a\n",
    "representation of that number in binary (base 2).\"\"\"\n",
    "def binary(n):\n",
    "    return bin(n)[2:]\n",
    "\n",
    "num=int(input(\"Enter a positive integer:\"))\n",
    "print(f\"The binary of {num} is {binary(num)}\")\n"
   ]
  },
  {
   "cell_type": "code",
   "execution_count": 10,
   "id": "cf9461e0-d01e-45af-981e-aeccc177260a",
   "metadata": {},
   "outputs": [
    {
     "name": "stdin",
     "output_type": "stream",
     "text": [
      "Enter a positive integer:  2\n"
     ]
    },
    {
     "name": "stdout",
     "output_type": "stream",
     "text": [
      "The factors of 2 are [1, 2]\n"
     ]
    }
   ],
   "source": [
    "\"\"\"2.Write and test a function that takes an integer as its parameter and returns the\n",
    "factors of that integer. (A factor is an integer which can be multiplied by another to\n",
    "yield the original).\"\"\"\n",
    "\n",
    "def factors(n):\n",
    "    return [i for i in range(1, n + 1) if n % i == 0]\n",
    "\n",
    "number = int(input(\"Enter a positive integer: \"))\n",
    "print(f\"The factors of {number} are {factors(number)}\")\n"
   ]
  },
  {
   "cell_type": "code",
   "execution_count": 2,
   "id": "ff563c27-1616-431b-b1d5-3412b1461f6b",
   "metadata": {},
   "outputs": [
    {
     "name": "stdin",
     "output_type": "stream",
     "text": [
      "Enter a positive integer:  5\n"
     ]
    },
    {
     "name": "stdout",
     "output_type": "stream",
     "text": [
      "5 is a prime number.\n"
     ]
    }
   ],
   "source": [
    "\"\"\"3.Write and test a function that determines if a given integer is a prime number.\n",
    "A prime number is an integer greater than 1 that cannot be produced by multiplying two other integers.\"\"\"\n",
    "\n",
    "def prime(n):\n",
    "    if n <= 1:\n",
    "        return False\n",
    "    for i in range(2, int(n ** 0.5) + 1):\n",
    "        if n % i == 0:\n",
    "            return False\n",
    "    return True\n",
    "    \n",
    "number = int(input(\"Enter a positive integer: \"))\n",
    "if prime(number):\n",
    "    print(f\"{number} is a prime number.\")\n",
    "else:\n",
    "    print(f\"{number} is not a prime number.\")\n"
   ]
  },
  {
   "cell_type": "code",
   "execution_count": 3,
   "id": "60e64788-a4ab-4e41-8d1a-0ea6accd7523",
   "metadata": {},
   "outputs": [
    {
     "name": "stdin",
     "output_type": "stream",
     "text": [
      "Enter a message to encrypt: hirako shinji\n"
     ]
    },
    {
     "name": "stdout",
     "output_type": "stream",
     "text": [
      "Encrypted message:ijnihsokarih\n"
     ]
    }
   ],
   "source": [
    "\"\"\"4.Computers are commonly used in encryption. A very simple form of encryption\n",
    "(more accurately \"obfuscation\") would be to remove the spaces from a message\n",
    "and reverse the resulting string. Write, and test, a function that takes a string\n",
    "containing a message and \"encrypts\" it in this way.\"\"\"\n",
    "\n",
    "def encryption(message):\n",
    "    return message.replace(\" \", \"\")[::-1]\n",
    "\n",
    "message=input(\"Enter a message to encrypt:\")\n",
    "print(f\"Encrypted message:{encryption(message)}\")"
   ]
  },
  {
   "cell_type": "code",
   "execution_count": 4,
   "id": "6b125d01-34ac-49eb-81b7-eb10f139e5f1",
   "metadata": {},
   "outputs": [
    {
     "name": "stdin",
     "output_type": "stream",
     "text": [
      "Enter a message to encrypt:  ape\n"
     ]
    },
    {
     "name": "stdout",
     "output_type": "stream",
     "text": [
      "Encrypted message: aroygsxqppohnjgznxedklllpaj\n",
      "Interval used: 9\n"
     ]
    }
   ],
   "source": [
    "\"\"\"5.Another way to hide a message is to include the letters that make it up within seemingly random text. \n",
    "The letters of the message might be every fih character,for example. \n",
    "Write and test a function that does such encryption. It should randomly generate an interval (between 2 and 20), space the message out\n",
    "accordingly, and should fill the gaps with random letters. The function should return the encrypted message and the interval used.\"\"\"\n",
    "\n",
    "import random\n",
    "\n",
    "def encrypt(message):\n",
    "    interval = random.choice(range(2, 21))\n",
    "    encrypted_message = []\n",
    "    index = 0\n",
    "\n",
    "    lowercase_letters = 'abcdefghijklmnopqrstuvwxyz'\n",
    "\n",
    "    while index < len(message):\n",
    "        for i in range(interval):\n",
    "            if index < len(message) and i == 0:\n",
    "                encrypted_message.append(message[index])\n",
    "                index += 1\n",
    "            else:\n",
    "                encrypted_message.append(random.choice(lowercase_letters)) \n",
    "\n",
    "    return ''.join(encrypted_message), interval\n",
    "\n",
    "message = input(\"Enter a message to encrypt: \")\n",
    "encrypted_message, interval = encrypt(message)\n",
    "print(f\"The Encrypted message is: {encrypted_message}\")\n",
    "print(f\"Interval that are used: {interval}\")\n",
    "\n"
   ]
  },
  {
   "cell_type": "code",
   "execution_count": 9,
   "id": "d6578fb7-4f5a-494c-80cf-047adcf2ee75",
   "metadata": {},
   "outputs": [
    {
     "name": "stdin",
     "output_type": "stream",
     "text": [
      "Enter the encrypted message:  aroygsxqppohnjgznxedklllpaj\n",
      "Enter the interval that was used in encryption:  9\n"
     ]
    },
    {
     "name": "stdout",
     "output_type": "stream",
     "text": [
      "The Decrypted message is: ape\n"
     ]
    }
   ],
   "source": [
    "\"\"\"6. Write a program that decrypts messages encoded as above.\"\"\"\n",
    "\n",
    "def decryption(encryption, interval):\n",
    "    decryption = encryption[::interval]\n",
    "    return decryption\n",
    "\n",
    "encryption=input(\"Enter the encrypted message: \")\n",
    "interval=int(input(\"Enter the interval that was used in encryption: \"))\n",
    "\n",
    "decryption = decryption(encryption, interval)\n",
    "print(f\"The Decrypted message is: {decryption}\")"
   ]
  },
  {
   "cell_type": "code",
   "execution_count": null,
   "id": "504a0849-eab5-4920-b5bf-3a7b0030cc72",
   "metadata": {},
   "outputs": [],
   "source": []
  }
 ],
 "metadata": {
  "kernelspec": {
   "display_name": "Python 3 (ipykernel)",
   "language": "python",
   "name": "python3"
  },
  "language_info": {
   "codemirror_mode": {
    "name": "ipython",
    "version": 3
   },
   "file_extension": ".py",
   "mimetype": "text/x-python",
   "name": "python",
   "nbconvert_exporter": "python",
   "pygments_lexer": "ipython3",
   "version": "3.13.1"
  }
 },
 "nbformat": 4,
 "nbformat_minor": 5
}
